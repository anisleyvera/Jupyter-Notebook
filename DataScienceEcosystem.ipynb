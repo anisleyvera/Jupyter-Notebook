{
 "cells": [
  {
   "cell_type": "markdown",
   "id": "4499968e-d1b8-47ab-a647-390a42e26c65",
   "metadata": {},
   "source": [
    "# Data Science Tools and Ecosystem"
   ]
  },
  {
   "cell_type": "markdown",
   "id": "09eb4cb6-f823-40da-82fa-f6a12e893cf4",
   "metadata": {},
   "source": [
    "In this notebook, Data Science Tools and Ecosystem are summarized."
   ]
  },
  {
   "cell_type": "markdown",
   "id": "46103fb6-789b-4a5e-ac01-1a6d5a439ffe",
   "metadata": {},
   "source": [
    "**Objectives:**\n",
    "- List popular Data Science tools\n",
    "- List popular Data Science libraries\n",
    "- Perform arithmetic operations in Python"
   ]
  },
  {
   "cell_type": "markdown",
   "id": "930aef5e-b30b-49fd-8961-b9a69679727d",
   "metadata": {},
   "source": [
    "Some of the popular languages that Data Scientists use are:\n",
    "1. Python\n",
    "2. R\n",
    "3. Julia"
   ]
  },
  {
   "cell_type": "markdown",
   "id": "e0c2efcb-08d8-4ef2-a025-3d0d1cddc222",
   "metadata": {},
   "source": [
    "Some of the commonly used libraries used by Data Scientists include:\n",
    "1. Matplotlib\n",
    "2. Pandas\n",
    "3. Scikit\n",
    "4. TensorFlow\n",
    "5. NumPy"
   ]
  },
  {
   "cell_type": "markdown",
   "id": "b514475c-bb12-4300-b924-49295382d7a8",
   "metadata": {},
   "source": [
    "| Data Science Tools |\n",
    "|--------------------|\n",
    "|Anaconda|\n",
    "|Jupyter|\n",
    "|RStudio|"
   ]
  },
  {
   "cell_type": "markdown",
   "id": "8ddc9b13-7e6d-441a-9acf-6842d707015d",
   "metadata": {},
   "source": [
    "### Below are a few examples of evaluating arithmetic expressions in Python"
   ]
  },
  {
   "cell_type": "code",
   "execution_count": 1,
   "id": "cf898894-69f4-4e11-87a2-1c738ace472c",
   "metadata": {
    "tags": []
   },
   "outputs": [
    {
     "data": {
      "text/plain": [
       "17"
      ]
     },
     "execution_count": 1,
     "metadata": {},
     "output_type": "execute_result"
    }
   ],
   "source": [
    "# This is a simple arithmetic expression to multiply then add integers\n",
    "(3*4)+5"
   ]
  },
  {
   "cell_type": "code",
   "execution_count": 2,
   "id": "32754bef-c759-4c5b-990f-0c502bb4f2e8",
   "metadata": {
    "tags": []
   },
   "outputs": [
    {
     "data": {
      "text/plain": [
       "3.3333333333333335"
      ]
     },
     "execution_count": 2,
     "metadata": {},
     "output_type": "execute_result"
    }
   ],
   "source": [
    "# This will convert 200 minutes to hours by dividing by 60\n",
    "200/60"
   ]
  },
  {
   "cell_type": "markdown",
   "id": "b99b637a-5cd4-4702-8cf3-c39c882d5ee8",
   "metadata": {},
   "source": [
    "## Author\n",
    "Anisley "
   ]
  },
  {
   "cell_type": "code",
   "execution_count": null,
   "id": "5cf26d27-b3f9-4891-8290-7be16284f38f",
   "metadata": {},
   "outputs": [],
   "source": []
  }
 ],
 "metadata": {
  "kernelspec": {
   "display_name": "Python",
   "language": "python",
   "name": "conda-env-python-py"
  },
  "language_info": {
   "codemirror_mode": {
    "name": "ipython",
    "version": 3
   },
   "file_extension": ".py",
   "mimetype": "text/x-python",
   "name": "python",
   "nbconvert_exporter": "python",
   "pygments_lexer": "ipython3",
   "version": "3.7.12"
  }
 },
 "nbformat": 4,
 "nbformat_minor": 5
}
